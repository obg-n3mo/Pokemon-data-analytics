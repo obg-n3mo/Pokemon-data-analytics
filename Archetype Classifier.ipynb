{
 "cells": [
  {
   "cell_type": "markdown",
   "metadata": {},
   "source": [
    "# Archetype Classifier for Pokemon TCG Decks"
   ]
  },
  {
   "cell_type": "markdown",
   "metadata": {},
   "source": [
    "The primary goal of this notebook is to write and maintain a function that takes a decklist from rk9 as input, and returns its archetype as output. This will be useful for displaying metashares and winrates.\n",
    "\n",
    "Some other useful things to have would be:\n",
    "- An equivalence relation between different versions of cards. This would make it possible to count interesting things like \"What was the most-played card at this event?\"\n",
    "\n",
    "- Some interesting meta-dependent analysis like 'What is the most common ace spec in Gardevoir?\" or \"What is the winningest ace spec in Gardevoir\"? etc"
   ]
  },
  {
   "cell_type": "code",
   "execution_count": null,
   "metadata": {},
   "outputs": [],
   "source": [
    "from bs4 import BeautifulSoup\n",
    "import pandas as pd\n",
    "import requests\n",
    "import re\n",
    "import copy\n",
    "import numpy as np"
   ]
  },
  {
   "cell_type": "markdown",
   "metadata": {},
   "source": [
    "From the webscraping project, I already have a function to grab the URLs from the tournament's homepage, and a function to get the roster for the tournament."
   ]
  },
  {
   "cell_type": "code",
   "execution_count": null,
   "metadata": {},
   "outputs": [],
   "source": [
    "# Set the tournament name with the year and city of the regional\n",
    "\n",
    "tournament = 'pokemon-merida-2025'\n",
    "\n",
    "homepage = 'https://rk9.gg/event/' + tournament"
   ]
  },
  {
   "cell_type": "code",
   "execution_count": null,
   "metadata": {},
   "outputs": [],
   "source": [
    "def get_rk9_urls(homepage):\n",
    "    soup = BeautifulSoup(requests.get(homepage).text)\n",
    "\n",
    "    tcg = soup.find(\"div\", class_ = 'card h-100 mt-3 p-2 shadow bg-blue-050') # Locate tcg box (sometimes indigo)\n",
    "\n",
    "    # Find url extensions for roster and pairings\n",
    "    roster_code = tcg.find('a', {'href': re.compile('/roster*')})['href']  \n",
    "    pairings_code = tcg.find('a', {'href': re.compile('/pairings*')})['href']\n",
    "\n",
    "    roster_url = 'https://rk9.gg' + roster_code\n",
    "    pairings_url = 'https://rk9.gg' + pairings_code\n",
    "    \n",
    "    return [roster_url,pairings_url]"
   ]
  },
  {
   "cell_type": "code",
   "execution_count": null,
   "metadata": {},
   "outputs": [],
   "source": [
    "def get_roster(homepage, csv = False, filename = tournament + 'roster.csv'):\n",
    "    \n",
    "    url = get_rk9_urls(homepage)[0] #set player roster url\n",
    "    \n",
    "    soup = BeautifulSoup(requests.get(url).text) #load in the soup\n",
    "\n",
    "    table = soup.find('table') #roster page only has one table\n",
    "    \n",
    "    headers = table.find_all('th') #Find the column headers\n",
    "    headers = [heading.string for heading in headers]\n",
    "    \n",
    "    body = table.find('tbody') # isolate the body of the table\n",
    "    \n",
    "    rows = body.find_all('tr') # get rows\n",
    "    \n",
    "    all_roster_data = []\n",
    "    for row in rows:  # This loop isolates the text in each cell\n",
    "\n",
    "        row_data = row.find_all('td')\n",
    "        individual_row_data = [data.text.strip() for data in row_data]\n",
    "\n",
    "        dlist = row_data[-2]\n",
    "        dlist_url = dlist.find('a')['href']  # This is grabbing the decklist url, otherwise you just get \"view\"\n",
    "\n",
    "        individual_row_data[-2] = dlist_url\n",
    "\n",
    "        all_roster_data.append(individual_row_data)\n",
    "        \n",
    "        df = pd.DataFrame(all_roster_data, columns = headers)\n",
    "        \n",
    "    if not csv:\n",
    "        return df #returns the desired table\n",
    "    if csv:\n",
    "        return df.to_csv(filename)"
   ]
  },
  {
   "cell_type": "markdown",
   "metadata": {},
   "source": [
    "## Scraping decklists"
   ]
  },
  {
   "cell_type": "markdown",
   "metadata": {},
   "source": [
    "Before getting into classifying the decks, I'll write a function to scrape the decklists from their page on RK9. A decklist will be store as a list of dictionaries, where each dictionary represents a card in the deck. this way it is easy to access a property of a card via the key for that property."
   ]
  },
  {
   "cell_type": "code",
   "execution_count": null,
   "metadata": {},
   "outputs": [],
   "source": [
    "def get_list(dlist_url):\n",
    "    \n",
    "    dlist_soup = BeautifulSoup(requests.get(\"https://rk9.gg/\" + dlist_url).text)\n",
    "    \n",
    "    dlist_table = dlist_soup.find('table', class_ = 'decklist')\n",
    "    \n",
    "    card_dict = dict.fromkeys(('Name', 'Type', 'Language', 'ID', 'Count'))\n",
    "    deck = []\n",
    "\n",
    "    for card_soup in dlist_table.find_all('li'):\n",
    "        card_dict['Name'] = card_soup['data-cardname']\n",
    "        card_dict['Type'] = card_soup['data-cardtype']\n",
    "        card_dict['Language'] = card_soup['data-language']\n",
    "        card_dict['ID'] = card_soup['data-setnum']\n",
    "        card_dict['Count'] = int(card_soup['data-quantity'])\n",
    "\n",
    "        final_dict = copy.copy(card_dict)\n",
    "\n",
    "        for i in range(int(card_soup['data-quantity'])):\n",
    "            deck.append(final_dict)\n",
    "            \n",
    "    return deck"
   ]
  },
  {
   "cell_type": "markdown",
   "metadata": {},
   "source": [
    "## The Classifier"
   ]
  },
  {
   "cell_type": "markdown",
   "metadata": {},
   "source": [
    "This function will need lots of maintenance. Every time the meta changes, it needs to be updated. This will take a lot of time and energy so it might be worth reaching out to Robin to see if I can use the limitless API. They must have a function like this that they maintain.\n",
    "\n",
    "It could also be interesting to train some neural network to perform this classification, but I think we would have the same issue of needing to retrain the model everytime the meta changes. Not to mention the issue of aquiring enough **uniformly** labelled decklists to make the model reliable..."
   ]
  },
  {
   "cell_type": "code",
   "execution_count": null,
   "metadata": {},
   "outputs": [],
   "source": [
    "def archetype(deck_list):  #Classify decks\n",
    "    \n",
    "    oger = 0\n",
    "    drago = 0\n",
    "    pult = 0\n",
    "    lugia = 0\n",
    "    zard = 0\n",
    "    pidg = 0\n",
    "    gardy = 0\n",
    "    pagos = 0\n",
    "    noir = 0\n",
    "    palk = 0\n",
    "    bolt = 0\n",
    "    comfey = 0\n",
    "    tina = 0\n",
    "    colress = 0\n",
    "    thorns = 0\n",
    "    hammer = 0\n",
    "    lax = 0\n",
    "    dte = 0\n",
    "    miraidon = 0\n",
    "    \n",
    "    for card in deck_list:\n",
    "        if card['Name'] == 'Teal Mask Ogerpon ex':\n",
    "            oger += 1\n",
    "            \n",
    "        if card['Name'] == \"Regidrago VSTAR\":\n",
    "            drago += 1\n",
    "            \n",
    "        if card['Name'] == \"Dragapult ex\":\n",
    "            pult += 1\n",
    "        \n",
    "        if card['Name'] == \"Lugia VSTAR\":\n",
    "            lugia += 1\n",
    "        \n",
    "        if card['Name'] == \"Charizard ex\":\n",
    "            zard += 1\n",
    "            \n",
    "        if card['Name'] == \"Pidgeot ex\":\n",
    "            pidg += 1\n",
    "        \n",
    "        if card['Name'] == \"Gardevoir ex\":\n",
    "            gardy += 1\n",
    "        \n",
    "        if card['Name'] == \"Dusknoir\":\n",
    "            noir += 1\n",
    "            \n",
    "        if card['Name'] == \"Origin Forme Palkia VSTAR\":\n",
    "            palk += 1\n",
    "            \n",
    "        if card['Name'] == \"Raging Bolt ex\":\n",
    "            bolt += 1\n",
    "        \n",
    "        if card['Name'] == \"Comfey\":\n",
    "            comfey += 1\n",
    "            \n",
    "        if card['Name'] == \"Giratina_VSTAR\":\n",
    "            tina += 1\n",
    "        \n",
    "        if card['Name'] == \"Colress's Experiment\":\n",
    "            colress += 1\n",
    "            \n",
    "        if card['Name'] == \"Iron Thorns ex\":\n",
    "            thorns += 1\n",
    "        \n",
    "        if card['Name'] == \"Crushing Hammer\":\n",
    "            hammer += 1\n",
    "            \n",
    "        if card['Name'] == \"Snorlax\":\n",
    "            lax += 1\n",
    "        \n",
    "        if card['Name'] == 'Double Turbo Energy':\n",
    "            dte += 1\n",
    "            \n",
    "        if card['Name'] == 'Miraidon ex':\n",
    "            miraidon += 1\n",
    "            \n",
    "    #Regidrago\n",
    "    if oger >= 3 and drago >= 3:\n",
    "        return 'Regidrago VSTAR'\n",
    "\n",
    "    #Raging Bolt\n",
    "    elif oger >=3 and bolt >= 3:\n",
    "        return 'Raging Bolt ex'\n",
    "\n",
    "    #Dragapult\n",
    "    elif pult >=3:\n",
    "        return 'Dragapult ex'\n",
    "\n",
    "    #Charizard\n",
    "    elif zard >=2 and pidg >=2:\n",
    "        return 'Charizard ex'\n",
    "\n",
    "    #Lugia\n",
    "    elif lugia >= 2:\n",
    "        return 'Lugia VSTAR'\n",
    "\n",
    "    #Gardevoir\n",
    "    elif gardy >= 2:\n",
    "        return 'Gardevoir ex'\n",
    "\n",
    "    #Terapagos\n",
    "    elif pagos >=2 and dte >= 3:\n",
    "        return 'Terapagos ex'\n",
    "\n",
    "    #Palkia\n",
    "    elif palk >=2 and pagos >= 2:\n",
    "        return 'Palkia VSTAR'\n",
    "\n",
    "    #Lost box\n",
    "    elif comfey>=3 and colress==4 and tina == 0:\n",
    "        return 'Lost Zone Toolbox'\n",
    "\n",
    "    #Thorns\n",
    "    elif thorns == 4 and hammer > 0:\n",
    "        return 'Iron Thorns ex'\n",
    "\n",
    "    #Snorlax\n",
    "    elif lax == 4:\n",
    "        return 'Snorlax Stall'\n",
    "    \n",
    "    #Miraidon\n",
    "    elif miraidon >= 1:\n",
    "        return 'Miraidon ex'\n",
    "\n",
    "    else:\n",
    "        return 'Other'\n",
    "    "
   ]
  },
  {
   "cell_type": "markdown",
   "metadata": {},
   "source": [
    "## One Eternity Later..."
   ]
  },
  {
   "cell_type": "markdown",
   "metadata": {},
   "source": [
    "This function will iterate through the roster (Extremely slow! Surely there's a smarter way...) and classify each deck. The output is a dictionary with player names + country as keys and their deck archetype as the value."
   ]
  },
  {
   "cell_type": "code",
   "execution_count": null,
   "metadata": {},
   "outputs": [],
   "source": [
    "def get_archetypes(roster):\n",
    "    archetypes = []\n",
    "    total_players = len(roster)\n",
    "    \n",
    "    for player_index in range(total_players):\n",
    "\n",
    "        if roster.at[player_index, 'Division'] == 'Masters':\n",
    "            dlist_url = roster.at[player_index,\"Deck List\"]\n",
    "            dlist = get_list(dlist_url)\n",
    "\n",
    "            deck = archetype(dlist)\n",
    "            \n",
    "            print(str(player_index) + ' of ' + str(total_players))\n",
    "            archetypes.append(deck)\n",
    "    return archetypes"
   ]
  },
  {
   "cell_type": "markdown",
   "metadata": {},
   "source": [
    "Finally, generating the roster, calculating the archetypes, and replacing the decklist urls with the archetypes leaves me with the table I wanted."
   ]
  },
  {
   "cell_type": "code",
   "execution_count": null,
   "metadata": {},
   "outputs": [],
   "source": [
    "roster = get_roster(homepage)\n",
    "\n",
    "roster['Deck List'] = get_archetypes(roster)\n",
    "\n",
    "roster"
   ]
  },
  {
   "cell_type": "code",
   "execution_count": null,
   "metadata": {},
   "outputs": [],
   "source": [
    "roster.to_csv('Roster_with_Archetypes_from_'+tournment+'.csv')"
   ]
  }
 ],
 "metadata": {
  "kernelspec": {
   "display_name": "Python 3",
   "language": "python",
   "name": "python3"
  },
  "language_info": {
   "codemirror_mode": {
    "name": "ipython",
    "version": 3
   },
   "file_extension": ".py",
   "mimetype": "text/x-python",
   "name": "python",
   "nbconvert_exporter": "python",
   "pygments_lexer": "ipython3",
   "version": "3.8.5"
  }
 },
 "nbformat": 4,
 "nbformat_minor": 4
}
